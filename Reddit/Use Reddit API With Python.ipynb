{
 "cells": [
  {
   "cell_type": "markdown",
   "metadata": {},
   "source": [
    "# Use Reddit API With Python and Pushshift.io\n",
    "This post will show you how to make an API call with Reddit API using Pushshift.io.\n",
    "\n",
    "@author: Jean-Christophe Chouinard: Technical SEO / Data Scientist > [LinkedIn](https://www.linkedin.com/in/jeanchristophechouinard/) > [@ChouinardJC](https://twitter.com/ChouinardJC) > Blog > [jcchouinard.com](https://www.jcchouinard.com/)\n",
    "View the post > [How to use Reddit API With Python](https://www.jcchouinard.com/how-to-use-reddit-api-with-python/) \n",
    "\n",
    "\n",
    "This work must be attributed to [Duarte O.Carmo](https://duarteocarmo.com/)."
   ]
  },
  {
   "cell_type": "markdown",
   "metadata": {},
   "source": [
    "In this post, I will show you how to extract data from Reddit API to find out which subreddit have the most activity for your search term. "
   ]
  },
  {
   "cell_type": "markdown",
   "metadata": {},
   "source": [
    "\n",
    "## How to Extract Data From Reddit Using Pushshift.io?\n",
    "\n",
    "\n",
    "## Install Dependent Libraries"
   ]
  },
  {
   "cell_type": "code",
   "execution_count": null,
   "metadata": {},
   "outputs": [],
   "source": [
    "# Install packages if you don't have them already installed in the current Jupyter kernel\n",
    "import sys\n",
    "!{sys.executable} -m pip install plotly==4.4.1\n",
    "!{sys.executable} -m pip install pandas\n",
    "!{sys.executable} -m pip install requests"
   ]
  },
  {
   "cell_type": "markdown",
   "metadata": {},
   "source": [
    "## Load Libraries"
   ]
  },
  {
   "cell_type": "code",
   "execution_count": null,
   "metadata": {},
   "outputs": [],
   "source": [
    "import pandas as pd\n",
    "import requests"
   ]
  },
  {
   "cell_type": "markdown",
   "metadata": {},
   "source": [
    "## Import the JSON Data With Requests"
   ]
  },
  {
   "cell_type": "code",
   "execution_count": null,
   "metadata": {},
   "outputs": [],
   "source": [
    "query=\"python\" \n",
    "url = f\"https://api.pushshift.io/reddit/search/comment/?q={query}\"\n",
    "request = requests.get(url)\n",
    "json_response = request.json()\n",
    "json_response"
   ]
  },
  {
   "cell_type": "markdown",
   "metadata": {},
   "source": [
    "## Set-up Your Parameters"
   ]
  },
  {
   "cell_type": "code",
   "execution_count": null,
   "metadata": {},
   "outputs": [],
   "source": [
    "data_type=\"comment\"     # give me comments, use \"submission\" to publish something\n",
    "query=\"python\"          # Add your query\n",
    "duration=\"30d\"          # Select the timeframe. Epoch value or Integer + \"s,m,h,d\" (i.e. \"second\", \"minute\", \"hour\", \"day\")\n",
    "size=1000               # maximum 1000 comments\n",
    "sort_type=\"score\"       # Sort by score (Accepted: \"score\", \"num_comments\", \"created_utc\")\n",
    "sort=\"desc\"             # sort descending\n",
    "aggs=\"subreddit\"        #\"author\", \"link_id\", \"created_utc\", \"subreddit\""
   ]
  },
  {
   "cell_type": "markdown",
   "metadata": {},
   "source": [
    "## Make a Function to Call The API"
   ]
  },
  {
   "cell_type": "code",
   "execution_count": null,
   "metadata": {},
   "outputs": [],
   "source": [
    "def get_pushshift_data(data_type, **kwargs):\n",
    "    \"\"\"\n",
    "    Gets data from the pushshift api.\n",
    "\n",
    "    data_type can be 'comment' or 'submission'\n",
    "    The rest of the args are interpreted as payload.\n",
    "\n",
    "    Read more: https://github.com/pushshift/api\n",
    "    \"\"\"\n",
    "\n",
    "    base_url = f\"https://api.pushshift.io/reddit/search/{data_type}/\"\n",
    "    payload = kwargs\n",
    "    request = requests.get(base_url, params=payload)\n",
    "    return request.json()"
   ]
  },
  {
   "cell_type": "code",
   "execution_count": null,
   "metadata": {},
   "outputs": [],
   "source": [
    "get_pushshift_data(data_type=data_type,     \n",
    "                   q=query,                 \n",
    "                   after=duration,          \n",
    "                   size=size,               \n",
    "                   sort_type=sort_type,\n",
    "                   sort=sort)             "
   ]
  },
  {
   "cell_type": "code",
   "execution_count": null,
   "metadata": {},
   "outputs": [],
   "source": [
    "data = get_pushshift_data(data_type=data_type,\n",
    "                          q=query,\n",
    "                          after=duration,\n",
    "                          size=size,\n",
    "                          aggs=aggs)"
   ]
  },
  {
   "cell_type": "code",
   "execution_count": null,
   "metadata": {},
   "outputs": [],
   "source": [
    "data = data.get(\"aggs\").get(aggs)"
   ]
  },
  {
   "cell_type": "code",
   "execution_count": null,
   "metadata": {},
   "outputs": [],
   "source": [
    "df = pd.DataFrame.from_records(data)[0:10]\n",
    "df"
   ]
  },
  {
   "cell_type": "code",
   "execution_count": null,
   "metadata": {},
   "outputs": [],
   "source": [
    "import plotly.express as px\n",
    "\n",
    "px.bar(df,              # our dataframe\n",
    "       x=\"key\",         # x will be the 'key' column of the dataframe\n",
    "       y=\"doc_count\",   # y will be the 'doc_count' column of the dataframe\n",
    "       title=f'Subreddits with most activity - comments with \"{query}\" in the last \"{duration}\"',\n",
    "       labels={\"doc_count\": \"# comments\",\"key\": \"Subreddits\"}, # the axis names\n",
    "       color_discrete_sequence=[\"blueviolet\"], # the colors used\n",
    "       height=500,\n",
    "       width=800)"
   ]
  },
  {
   "cell_type": "code",
   "execution_count": null,
   "metadata": {},
   "outputs": [],
   "source": [
    "def make_clickable(val):\n",
    "    \"\"\" Makes a pandas column clickable by wrapping it in some html.\n",
    "    \"\"\"\n",
    "    return '<a href=\"{}\">Link</a>'.format(val,val)"
   ]
  },
  {
   "cell_type": "code",
   "execution_count": null,
   "metadata": {},
   "outputs": [],
   "source": [
    "# Call the API\n",
    "data = get_pushshift_data(data_type=data_type,\n",
    "                          q=query,\n",
    "                          after=\"7d\",\n",
    "                          size=10,\n",
    "                          sort_type=sort_type,\n",
    "                          sort=sort).get(\"data\")\n",
    "\n",
    "# Select the columns you care about\n",
    "df = pd.DataFrame.from_records(data)[[\"author\", \"subreddit\", \"score\", \"body\", \"permalink\"]]\n",
    "\n",
    "# Keep the first 400 characters\n",
    "df['body'] = df['body'].str[0:400] + \"...\"\n",
    "\n",
    "# Append the string to all the permalink entries so that we have a link to the comment\n",
    "df['permalink'] = \"https://reddit.com\" + df['permalink'].astype(str)\n",
    "\n",
    "\n",
    "# Create a function to make the link to be clickable and style the last column\n",
    "def make_clickable(val):\n",
    "    \"\"\" Makes a pandas column clickable by wrapping it in some html.\n",
    "    \"\"\"\n",
    "    return '<a href=\"{}\">Link</a>'.format(val,val)\n",
    "\n",
    "\n",
    "df.style.format({'permalink': make_clickable})"
   ]
  },
  {
   "cell_type": "code",
   "execution_count": null,
   "metadata": {},
   "outputs": [],
   "source": []
  }
 ],
 "metadata": {
  "kernelspec": {
   "display_name": "Python 3",
   "language": "python",
   "name": "python3"
  },
  "language_info": {
   "codemirror_mode": {
    "name": "ipython",
    "version": 3
   },
   "file_extension": ".py",
   "mimetype": "text/x-python",
   "name": "python",
   "nbconvert_exporter": "python",
   "pygments_lexer": "ipython3",
   "version": "3.7.4"
  }
 },
 "nbformat": 4,
 "nbformat_minor": 2
}
