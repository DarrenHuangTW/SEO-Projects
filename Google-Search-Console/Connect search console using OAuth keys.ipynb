{
 "cells": [
  {
   "cell_type": "markdown",
   "metadata": {},
   "source": [
    "# Connect to Google Search Console API using Python\n",
    "This notebook show you how to **Connect to Google Search Console API using Python** .\n",
    "\n",
    "@author: Jean-Christophe Chouinard: Technical SEO / Data Scientist.",
    "\n",
    "[LinkedIn](https://www.linkedin.com/in/jeanchristophechouinard/), [Twitter.com/@ChouinardJC](https://twitter.com/ChouinardJC), Blog > [jcchouinard.com](https://www.jcchouinard.com/)",
    "\n",
    "From the post: [How to Use Google Search Console API With Python](https://www.jcchouinard.com/how-to-connect-to-google-search-console-api-using-python/)",
    "\n",
    "Before you can run this code, make sure that you know how to get your [Google Search Console API Keys](https://www.jcchouinard.com/how-to-get-google-search-console-api-keys/)"
   ]
  },
  {
   "cell_type": "code",
   "execution_count": 1,
   "metadata": {},
   "outputs": [],
   "source": [
    "import argparse\n",
    "from apiclient.discovery import build\n",
    "import httplib2\n",
    "from oauth2client import client\n",
    "from oauth2client import file\n",
    "from oauth2client import tools\n",
    "\n",
    "SCOPES = ['https://www.googleapis.com/auth/webmasters.readonly']\n",
    "DISCOVERY_URI = ('https://www.googleapis.com/discovery/v1/apis/customsearch/v1/rest')"
   ]
  },
  {
   "cell_type": "code",
   "execution_count": 2,
   "metadata": {},
   "outputs": [],
   "source": [
    "parser = argparse.ArgumentParser(\n",
    "    formatter_class=argparse.RawDescriptionHelpFormatter,\n",
    "    parents=[tools.argparser])\n",
    "flags = parser.parse_args([])"
   ]
  },
  {
   "cell_type": "code",
   "execution_count": 3,
   "metadata": {},
   "outputs": [],
   "source": [
    "flow = client.OAuth2WebServerFlow(client_id='XXXXXXXXXXXXXXX.apps.googleusercontent.com',\n",
    "                           client_secret='XXXXXXXXXXXXXXXXXXXXX',\n",
    "                           scope=SCOPES)"
   ]
  },
  {
   "cell_type": "code",
   "execution_count": 6,
   "metadata": {},
   "outputs": [],
   "source": [
    "storage = file.Storage(r'C:\\Users\\YOUR-PATH\\searchconsole.dat')\n",
    "credentials = storage.get()\n",
    "if credentials is None or credentials.invalid:\n",
    "  credentials = tools.run_flow(flow, storage, flags)\n",
    "http = credentials.authorize(http=httplib2.Http())"
   ]
  },
  {
   "cell_type": "code",
   "execution_count": 7,
   "metadata": {},
   "outputs": [],
   "source": [
    "webmasters_service = build('webmasters', 'v3', http=http)"
   ]
  },
  {
   "cell_type": "code",
   "execution_count": 8,
   "metadata": {},
    "source": [
    "site_list = webmasters_service.sites().list().execute()\n",
    "\n",
    "verified_sites_urls = [s['siteUrl'] for s in site_list['siteEntry']\n",
    "                       if s['permissionLevel'] != 'siteUnverifiedUser'\n",
    "                          and s['siteUrl'][:4] == 'http']\n",
    "\n",
    "for site_url in verified_sites_urls:\n",
    "  print( site_url)"
   ]
  },
  {
   "cell_type": "code",
   "execution_count": null,
   "metadata": {},
   "outputs": [],
   "source": []
  }
 ],
 "metadata": {
  "kernelspec": {
   "display_name": "Python 3",
   "language": "python",
   "name": "python3"
  },
  "language_info": {
   "codemirror_mode": {
    "name": "ipython",
    "version": 3
   },
   "file_extension": ".py",
   "mimetype": "text/x-python",
   "name": "python",
   "nbconvert_exporter": "python",
   "pygments_lexer": "ipython3",
   "version": "3.7.3"
  }
 },
 "nbformat": 4,
 "nbformat_minor": 2
}
