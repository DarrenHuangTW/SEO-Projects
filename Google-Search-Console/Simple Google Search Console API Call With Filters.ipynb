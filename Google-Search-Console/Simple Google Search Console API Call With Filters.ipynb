{
 "nbformat": 4,
 "nbformat_minor": 2,
 "metadata": {
  "language_info": {
   "name": "python",
   "codemirror_mode": {
    "name": "ipython",
    "version": 3
   }
  },
  "orig_nbformat": 2,
  "file_extension": ".py",
  "mimetype": "text/x-python",
  "name": "python",
  "npconvert_exporter": "python",
  "pygments_lexer": "ipython3",
  "version": 3
 },
 "cells": [
  {
   "cell_type": "markdown",
   "metadata": {},
   "source": [
    "# Connect to Google Search Console API using Python\n",
    "This notebook shows you how to make a simple Google Search Console API call with filters using Python.\n",
    "\n",
    "@author: Jean-Christophe Chouinard: Senior SEO Specialis at Seek.\n",
    "\n",
    "[LinkedIn](https://www.linkedin.com/in/jeanchristophechouinard), [Twitter.com/@ChouinardJC](https://twitter.com/chouinardjc), Blog > [jcchouinard.com](https://www.jcchouinard.com)\n",
    "\n",
    "Before you can run this code, make sure that you know how to get your [Google Search Console API Keys](https://www.jcchouinard.com/how-to-get-google-search-console-api-keys/)"
   ]
  },
  {
   "cell_type": "code",
   "execution_count": 1,
   "metadata": {},
   "outputs": [],
   "source": [
    "import pandas as pd\n",
    "import datetime\n",
    "import httplib2\n",
    "from apiclient.discovery import build\n",
    "from oauth2client.client import OAuth2WebServerFlow\n",
    "from collections import defaultdict\n",
    "from dateutil import relativedelta\n",
    "import argparse\n",
    "from oauth2client import client\n",
    "from oauth2client import file\n",
    "from oauth2client import tools\n",
    "import re\n",
    "import os"
   ]
  },
  {
   "cell_type": "markdown",
   "metadata": {},
   "source": [
    "## Get Your Path and Set-Up Your GSC Domain"
   ]
  },
  {
   "cell_type": "code",
   "execution_count": 2,
   "metadata": {},
   "outputs": [],
   "source": [
    "path = os.getcwd()\n",
    "site = 'https://www.example.com'"
   ]
  },
  {
   "cell_type": "markdown",
   "metadata": {},
   "source": [
    "## Set Credentials\n",
    "To run this, you need to add your `client_secrets.json` file to your current working directory. If you don't know how, just check how you can [download your Google API keys](https://www.jcchouinard.com/how-to-get-google-search-console-api-keys/).\n",
    "\n",
    "The first time your run this, you will get an error message, because it will add the `/searchconsolereporting.dat` file to your current working directory."
   ]
  },
  {
   "cell_type": "code",
   "execution_count": null,
   "metadata": {},
   "outputs": [],
   "source": [
    "SCOPES = ['https://www.googleapis.com/auth/webmasters.readonly'] # Variable parameter that controls the set of resources that the access token permits.\n",
    "\n",
    "CLIENT_SECRETS_PATH = path + '/client_secrets.json' # Path to client_secrets.json file.\n",
    " \n",
    "parser = argparse.ArgumentParser(\n",
    "    formatter_class = argparse.RawDescriptionHelpFormatter,\n",
    "    parents = [tools.argparser])\n",
    "flags = parser.parse_args([])\n",
    "\n",
    "flow = client.flow_from_clientsecrets(\n",
    "    CLIENT_SECRETS_PATH, scope = SCOPES,\n",
    "    message = tools.message_if_missing(CLIENT_SECRETS_PATH))\n",
    "\n",
    "storage = file.Storage(path + '/searchconsolereporting.dat')\n",
    "credentials = storage.get()\n"
   ]
  },
  {
   "cell_type": "code",
   "execution_count": null,
   "metadata": {},
   "outputs": [],
   "source": [
    "if credentials is None or credentials.invalid:\n",
    "  credentials = tools.run_flow(flow, storage, flags)\n",
    "http = credentials.authorize(http=httplib2.Http())\n",
    "\n",
    "webmasters_service = build('webmasters', 'v3', http=http)"
   ]
  },
  {
   "cell_type": "markdown",
   "metadata": {},
   "source": [
    "## Set-Up Parameters"
   ]
  },
  {
   "cell_type": "code",
   "execution_count": null,
   "metadata": {},
   "outputs": [],
   "source": [
    "start_date = datetime.date.today() - relativedelta.relativedelta(days=3)\n",
    "end_date = start_date"
   ]
  },
  {
   "cell_type": "code",
   "execution_count": null,
   "metadata": {},
   "outputs": [],
   "source": [
    "maxRows = 25000; \n",
    "scDict = defaultdict(list)\n",
    "print(scDict)"
   ]
  },
  {
   "cell_type": "markdown",
   "metadata": {},
   "source": [
    "## Execute your API Request"
   ]
  },
  {
   "cell_type": "code",
   "execution_count": null,
   "metadata": {},
   "outputs": [],
   "source": [
    "def execute_request(service, property_uri, request):\n",
    "    return service.searchanalytics().query(siteUrl=property_uri, body=request).execute()"
   ]
  },
  {
   "cell_type": "markdown",
   "metadata": {},
   "source": [
    "## Run Request"
   ]
  },
  {
   "cell_type": "code",
   "execution_count": null,
   "metadata": {},
   "outputs": [],
   "source": [
    "request = {\n",
    "        'startDate': datetime.datetime.strftime(start_date,\"%Y-%m-%d\"),\n",
    "        'endDate': datetime.datetime.strftime(end_date,'%Y-%m-%d'),\n",
    "        'dimensions': ['date','page','query'],  #country, device, page, query, searchAppearance\n",
    "        'dimensionFilterGroups': [{\n",
    "          'filters': [{\n",
    "              'dimension': 'page',              \n",
    "              'operator': 'contains',           #contains, equals, notEquals, notContains\n",
    "              'expression': '/job/'\n",
    "          }]\n",
    "         }],\n",
    "        'rowLimit': maxRows \n",
    "    }\n",
    "response = execute_request(webmasters_service, site, request)\n"
   ]
  },
  {
   "cell_type": "code",
   "execution_count": null,
   "metadata": {},
   "outputs": [],
   "source": [
    "for row in response['rows']:\n",
    "        scDict['date'].append(row['keys'][0] or 0)    \n",
    "        scDict['page'].append(row['keys'][1] or 0)\n",
    "        scDict['query'].append(row['keys'][2] or 0)\n",
    "        scDict['clicks'].append(row['clicks'] or 0)\n",
    "        scDict['ctr'].append(row['ctr'] or 0)\n",
    "        scDict['impressions'].append(row['impressions'] or 0)\n",
    "        scDict['position'].append(row['position'] or 0)"
   ]
  },
  {
   "cell_type": "code",
   "execution_count": null,
   "metadata": {},
   "outputs": [],
   "source": [
    "df = pd.DataFrame(data = scDict)\n",
    "df['clicks'] = df['clicks'].astype('int')\n",
    "df['ctr'] = df['ctr']*100\n",
    "df['impressions'] = df['impressions'].astype('int')\n",
    "df['position'] = df['position'].round(2)\n",
    "df.sort_values('clicks',inplace=True,ascending=False)\n",
    "df"
   ]
  }
 ]
}